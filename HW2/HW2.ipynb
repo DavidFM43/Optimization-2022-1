{
 "cells": [
  {
   "cell_type": "markdown",
   "id": "15064941",
   "metadata": {},
   "source": [
    "David Felipe Mora\n",
    "## HW2 \n",
    "1. Ejercicios:\n",
    "    - 2.1\n",
    "    - 2.3\n",
    "    - 2.4\n",
    "    - 2.5\n",
    "    - 2.8\n",
    "    - 2.9\n",
    "    - 2.10\n",
    "    - 2.13\n",
    "    - 2.14\n",
    "    - 2.15\n",
    "    - 2.16\n",
    "    - 2.17\n",
    "    - 2.18\n",
    "2. Implementar un algoritmo que determine el cono convexo de un conjunto de puntos en cualquier dimensión.\n",
    "3. Verificar que el conjunto de soluciones de un conjuntos de desigualdades de matrices linales es convexa."
   ]
  },
  {
   "cell_type": "markdown",
   "id": "e2362aa9",
   "metadata": {},
   "source": [
    "## Ejercicios"
   ]
  },
  {
   "cell_type": "markdown",
   "id": "4e55d651",
   "metadata": {},
   "source": [
    "### 2.1"
   ]
  },
  {
   "cell_type": "markdown",
   "id": "01dd35b5",
   "metadata": {},
   "source": [
    "Por inducción, sabemos que vale para $n = 2$, suponga que la proposición vale para $n$, veamos que vale para $n + 1$, es decir, que para $x_i \\in C$ y $\\theta_i \\in C$, con $1 \\leq i \\leq n+1$ y $\\sum_{i=1}^{n+1} \\theta_i = 1$, se tiene que $\\sum_{i=1}^{n+1} \\theta_{i}x_{i} \\in C$, luego:\n",
    "$\\sum_{i=1}^{n+1} \\theta_{i}x_{i} = \\sum_{i=1}^{n} \\theta_{i}x_{i} + \\theta_{n+1}x_{n+1} = (1 - \\theta_{n+1})\\sum_{i=1}^{n} \\frac{\\theta_{i}}{1 - \\theta_{n+1}}x_{i} + \\theta_{n+1}x_{n+1}$. Es claro que $\\sum_{i=1}^{n} \\frac{\\theta_{i}}{1 - \\theta_{n+1}} = 1$. Luego por la hipotesis de inducción: $\\sum_{i=1}^{n} \\frac{\\theta_{i}}{1 - \\theta_{n+1}}x_{i} \\in C$, y como $0 \\leq \\theta \\leq 1$, $(1 - \\theta_{n+1})\\sum_{i=1}^{n} \\frac{\\theta_{i}}{1 - \\theta_{n+1}}x_{i} \\in C$."
   ]
  },
  {
   "cell_type": "markdown",
   "id": "1d8603e4",
   "metadata": {},
   "source": [
    "### 2.3"
   ]
  },
  {
   "cell_type": "markdown",
   "id": "0d5d075d",
   "metadata": {},
   "source": [
    "Sea $0 \\leq \\theta \\leq 1$ y $x,y \\in C$, representando $\\theta$ en base 2 tenemos que $\\theta = \\sum_{i}^{\\infty} a_{i} 2^{-i}$, truncado $\\theta$ a $k$ cifras, es decir, $\\theta_k = \\sum_{i}^{k} a_{i} 2^{-i}$, tenemos que $\\theta_k x + (1 - \\theta_k) y \\in C$ por _midpoint convexity_. Ahora bien podemos construir una sucesión, donde el enesimo termino corresponde al truncamiento a la k-esima cifra de la representación binaria de $\\theta$, luego como $C$ es cerrado $\\theta x + (1 - \\theta)y = \\lim_{k \\to \\infty} \\theta_k x + (1 - \\theta_k) y \\in C$, por lo tanto $C$ es convexo."
   ]
  },
  {
   "cell_type": "markdown",
   "id": "356be92e",
   "metadata": {},
   "source": [
    "### 2.4"
   ]
  },
  {
   "cell_type": "markdown",
   "id": "bc84747a",
   "metadata": {},
   "source": [
    "Veamos que el _convex hull_ de un conjunto $S$ es la intersección de todos los conjuntos convexos que contienen a $S$. Sea ${A_k}$ la familia de conjuntos convexos que contienen a $S$, luego queremos ver que $\\bigcap A_k = Conv(C)$. Sea $x \\in Conv(C)$, luego existen $x_i$ y $0 \\leq \\theta_i$ con $x = \\sum \\theta_i x_i$ y $\\sum \\theta_i = 1$. Como $C \\subseteq A_k$ para todo $k$, entonces $x_i \\in A_k$ para todo $i$ y $k$. Luego $\\sum \\theta_i x_i \\in A_k$ para todo $k$ y $x \\in \\bigcap A_k$. Por otro lado, si $x \\in \\bigcap A_k$ y como por definición $Conv(C)$ es convexo y $C \\subseteq Conv(C)$, luego $x \\in conv(C)$, por lo que $\\bigcap A_k = Conv(C)$."
   ]
  },
  {
   "cell_type": "markdown",
   "id": "775f10f7",
   "metadata": {},
   "source": [
    "### 2.5"
   ]
  },
  {
   "cell_type": "markdown",
   "id": "84fb1f65",
   "metadata": {},
   "source": [
    "Sabemos que $a^T x = b$ es un hiperplano con vector normal $a$ y desplazamiento del origen $b$, luego podemos hallar el punto que intersecta el plano con la linea que parte del origen paralela al vector normal $a$, el cual se obtiene escalando $a$ por $\\frac{b}{||a||^2}$, es decir que el punto corresponde a $x = \\frac{b}{||a||^2} a$. Luego la distancia entre los dos hiperplanos, corresponde a la distancia entre estos puntos, sea $x_1$ y $x_2$ dichos puntos para los hiperplanos $a^T x = b_1$ y $a^T x = b_2$ respectivamente. Entonces, $$ ||x_1 - x_2|| = \\frac{|b_1 - b_2|}{||a||}$$"
   ]
  },
  {
   "cell_type": "markdown",
   "id": "478bc8e8",
   "metadata": {},
   "source": [
    "### 2.8"
   ]
  },
  {
   "cell_type": "markdown",
   "id": "bc560414",
   "metadata": {},
   "source": []
  },
  {
   "cell_type": "markdown",
   "id": "ac38f841",
   "metadata": {},
   "source": [
    "### 2.9"
   ]
  },
  {
   "cell_type": "markdown",
   "id": "a1f1aba6",
   "metadata": {},
   "source": [
    "Graficamente podemos notar que $V$ consiste de un poliedro cuyos lados, son los vectores normales a los vectores que salen de $x_0$ y llegan a $x_k$ para $1 \\leq k \\leq n$. Esto se refleja algebraicamente como:"
   ]
  }
 ],
 "metadata": {
  "kernelspec": {
   "display_name": "Julia 1.7.2",
   "language": "julia",
   "name": "julia-1.7"
  },
  "language_info": {
   "file_extension": ".jl",
   "mimetype": "application/julia",
   "name": "julia",
   "version": "1.7.2"
  }
 },
 "nbformat": 4,
 "nbformat_minor": 5
}
