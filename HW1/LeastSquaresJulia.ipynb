{
 "cells": [
  {
   "cell_type": "markdown",
   "id": "89f7fe4c",
   "metadata": {},
   "source": [
    "# Homework 1\n",
    "\n",
    "* Related with the nature of the data, which conditions should meet matrices $A$ and $b$ to be solvable from the least squares perspective.\n",
    "\n",
    "* Use a least squares for non-linear models adjust the bitcoin price and perform a prediction using the model to determine the future daily price a week ahead, compare with the actual values.\n",
    "\n",
    "* Use least squares to determine the relationship between the bitcoin price and prices of three comodities namely, oil, silved and gold, during the last year.\n",
    "\n",
    "* Solve the [point set registration problem](https://en.wikipedia.org/wiki/Point-set_registration). Hint (check: S. Umeyama, Least-Squares Estimation of Transformation Parameters Between Two Point Patterns, IEEE Trans. Pattern Anal. Mach. Intell., vol. 13, no. 4, 1991). Construct a GUI to test. (**Additional points**)"
   ]
  },
  {
   "cell_type": "markdown",
   "id": "c78f18cd",
   "metadata": {},
   "source": [
    "### 1.\n",
    "El problema de ajuste de datos mediante un modelo se puede resolver mediante la minimización de cuadrados de la siguiente forma:\n",
    "\n",
    "$$\\tilde{x} = \\mbox{arg min}_{x} \\| Ax - b \\|_2^2$$ \n",
    "En donde la matriz $A$ \"codifica\" la naturaleza del modelo, $x$ son los parametros y $b$ son las predicciones.\n",
    "\n",
    "Expandiendo esta expresion e igualando a cero el gradiente(para hallar el minimo de la función) llegamos a las ecuaciones normales: $$A^T A x = A^T b$$\n",
    "\n",
    "Ahora bien, ¿Para que $A$ y $b$ tiene solución esta ecuación? \n",
    "\n",
    "Si las columnas de A son linearmente independientes, entonces $(A^T A)^{-1}$ existe y la solución se puede calcular mediante $$x = (A^T A)^{-1} A^T b$$\n",
    "\n",
    "Si las columnas de A **NO** son linearmente independientes, entonces la ecuación se puede solcuionar mediante descomposicion en valores simples.\n",
    "\n",
    "Por lo tanto, las ecuaciones normales siempre tienen solución y por lo tanto el problema de los minimos cuadrados es solucionable."
   ]
  },
  {
   "cell_type": "markdown",
   "id": "706f1f77",
   "metadata": {},
   "source": [
    "### 2. \n",
    "Los datos de Bitcoin fueron tomados de [CryptoDataDownload](https://www.cryptodatadownload.com/data/gemini/)."
   ]
  },
  {
   "cell_type": "markdown",
   "id": "735e2507",
   "metadata": {},
   "source": [
    "#### Imports"
   ]
  },
  {
   "cell_type": "code",
   "execution_count": 1,
   "id": "7241b108",
   "metadata": {},
   "outputs": [],
   "source": [
    "using CSV\n",
    "using DataFrames\n",
    "using Plots\n",
    "using TimeSeries\n",
    "using LinearAlgebra"
   ]
  },
  {
   "cell_type": "markdown",
   "id": "2e42954f",
   "metadata": {},
   "source": [
    "Load the Bitcoin dataset"
   ]
  },
  {
   "cell_type": "code",
   "execution_count": null,
   "id": "e3b023e5",
   "metadata": {},
   "outputs": [],
   "source": [
    "btc_ds = select(CSV.read(\"Gemini_BTCUSD_day.csv\", DataFrame), Not([\"Unix Timestamp\", \"Symbol\"]));\n",
    "btc_ds.Date = broadcast(d -> Date(d[1:length(d)-9]), btc_ds.Date) # parse dates\n",
    "first(btc_ds, 5)"
   ]
  },
  {
   "cell_type": "code",
   "execution_count": null,
   "id": "83e2be7d",
   "metadata": {},
   "outputs": [],
   "source": [
    "data = (date = btc_ds.Date, Price = btc_ds.Open)\n",
    "ta = TimeArray(data; timestamp = :date, meta = \"btc\")\n",
    "Plots.plot(ta)"
   ]
  },
  {
   "cell_type": "markdown",
   "id": "123e5b0c",
   "metadata": {},
   "source": [
    "Matrix representation of system"
   ]
  },
  {
   "cell_type": "code",
   "execution_count": null,
   "id": "cd045bbb",
   "metadata": {},
   "outputs": [],
   "source": [
    "n = 30\n",
    "btc_prices= btc_ds.Open[1:n];\n",
    "\n",
    "A = [Array(1:n) ones(n,1)] \n",
    "b = Array(btc_prices);"
   ]
  },
  {
   "cell_type": "markdown",
   "id": "6d84acc5",
   "metadata": {},
   "source": [
    "Plot of the objective function $f:\\mathbb{R}^2 \\to \\mathbb{R}$ defined by $f(x) = \\| Ax - b \\|_2^2$"
   ]
  },
  {
   "cell_type": "code",
   "execution_count": null,
   "id": "1a27f187",
   "metadata": {},
   "outputs": [],
   "source": [
    "function f(x, y)\n",
    "    X = transpose([x y]) # column vector\n",
    "    (transpose(A*X-b)*(A*X-b))[1] # 1 element of 1x1 matrix\n",
    "end\n",
    "plotlyjs()\n",
    "surface(-50000:1000:50000,-10000:100:15000, f)"
   ]
  },
  {
   "cell_type": "markdown",
   "id": "174901aa",
   "metadata": {},
   "source": [
    "Computing the solution $ x = (A^T A)^{-1} A^T b$"
   ]
  },
  {
   "cell_type": "code",
   "execution_count": null,
   "id": "ebbcf52c",
   "metadata": {},
   "outputs": [],
   "source": [
    "@time inv(transpose(A)*A)*transpose(A)*b"
   ]
  },
  {
   "cell_type": "markdown",
   "id": "0593ba35",
   "metadata": {},
   "source": [
    "Moore Penrose pseudoinverse"
   ]
  },
  {
   "cell_type": "code",
   "execution_count": null,
   "id": "3f8504d8",
   "metadata": {},
   "outputs": [],
   "source": [
    "@time pinv(A)*b"
   ]
  },
  {
   "cell_type": "markdown",
   "id": "75f7b537",
   "metadata": {},
   "source": [
    "Solving the normal equations $A^T A x = A^T b$ directly using Julia's backslash operator"
   ]
  },
  {
   "cell_type": "code",
   "execution_count": null,
   "id": "bb7a033f",
   "metadata": {},
   "outputs": [],
   "source": [
    "@time transpose(A)*A \\ transpose(A)*b"
   ]
  },
  {
   "cell_type": "markdown",
   "id": "a970f6d6",
   "metadata": {},
   "source": [
    "Solving(Approximating) the overdetermined system directly using backslash operator"
   ]
  },
  {
   "cell_type": "code",
   "execution_count": null,
   "id": "e2372c4d",
   "metadata": {},
   "outputs": [],
   "source": [
    "@time A \\ b"
   ]
  },
  {
   "cell_type": "code",
   "execution_count": null,
   "id": "94538e57",
   "metadata": {},
   "outputs": [],
   "source": [
    "A = "
   ]
  }
 ],
 "metadata": {
  "kernelspec": {
   "display_name": "Julia 1.7.2",
   "language": "julia",
   "name": "julia-1.7"
  },
  "language_info": {
   "file_extension": ".jl",
   "mimetype": "application/julia",
   "name": "julia",
   "version": "1.7.2"
  }
 },
 "nbformat": 4,
 "nbformat_minor": 5
}
